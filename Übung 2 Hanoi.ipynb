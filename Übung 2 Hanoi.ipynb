{
 "cells": [
  {
   "cell_type": "markdown",
   "source": [
    "# Zustandsraum für Türme von Hanoi erstellen\n",
    "- Wir codieren die Beschreibungen durch die Summe der Beschriftungen der Scheiben:\n",
    "    - Die Scheiben erhalten Zweierpotenzen als Beschriftungen\n",
    "    - Ein Stab wird als Summe der Beschriftungen der Scheiben codiert\n",
    "- Wir trennen die Stäbe durch ein Leerzeichen\n",
    "\n",
    "7 0 0\n",
    "bedeutet\n",
    "     |        |        |\n",
    "    |||       |        |\n",
    "   |||||      |        |\n",
    "  |||||||     |        |\n",
    "\n",
    "\n",
    "6 0 1\n",
    "bedeutet\n",
    "     |        |        |\n",
    "     |        |        |\n",
    "   |||||      |        |\n",
    "  |||||||     |       |||\n",
    "\n",
    "4 2 1\n",
    "bedeutet\n",
    "     |        |        |\n",
    "     |        |        |\n",
    "     |        |        |\n",
    "  |||||||   |||||     |||"
   ],
   "metadata": {
    "collapsed": false
   }
  },
  {
   "cell_type": "code",
   "execution_count": 8,
   "outputs": [
    {
     "name": "stdout",
     "output_type": "stream",
     "text": [
      "[7, 0, 0]\n",
      "7 0 0\n",
      "\n"
     ]
    }
   ],
   "source": [
    "from treelib import Node, Tree\n",
    "\n",
    "tree = Tree()\n",
    "\n",
    "# remove top disk from a stick\n",
    "def remove_top_disk(stick):\n",
    "    counter = 0\n",
    "    while stick & 0b1 != 1:\n",
    "        counter += 1\n",
    "        stick = stick >> 1\n",
    "\n",
    "    stick = stick >> 1\n",
    "    return stick << (counter + 1)\n",
    "\n",
    "\n",
    "def expand(parent):\n",
    "    grandparent = tree.parent(parent)\n",
    "    tree.expand_tree()\n",
    "\n",
    "    parent_sticks = [int(x) for x in parent.split(\" \")]\n",
    "\n",
    "    print(parent_sticks)\n",
    "\n",
    "    # how can a valid move be determined?\n",
    "    #  - a larger disk may not lay on top of a smaller one\n",
    "    #  - a disk below another disk may not be moved\n",
    "    #  - only one disk may be moved at a time\n",
    "\n",
    "    # we want to make good moves. Reverting the previous move is nonsensical.\n",
    "\n",
    "    remove_top_disk(parent_sticks[0])\n",
    "\n",
    "    # generate all possible moves\n",
    "\n",
    "    # for each possible moves\n",
    "    if tree.contains(\"7 0 0\"):\n",
    "        return\n",
    "\n",
    "tree.create_node(\"7 0 0\", \"7 0 0\")  # Die Ausgangssituation\n",
    "# tree.create_node(\"Mark\",  \"mark\"   , parent=\"harry\")\n",
    "\n",
    "expand(\"7 0 0\")\n",
    "\n",
    "tree.show()"
   ],
   "metadata": {
    "collapsed": false
   }
  }
 ],
 "metadata": {
  "kernelspec": {
   "display_name": "Python 3",
   "language": "python",
   "name": "python3"
  },
  "language_info": {
   "codemirror_mode": {
    "name": "ipython",
    "version": 2
   },
   "file_extension": ".py",
   "mimetype": "text/x-python",
   "name": "python",
   "nbconvert_exporter": "python",
   "pygments_lexer": "ipython2",
   "version": "2.7.6"
  }
 },
 "nbformat": 4,
 "nbformat_minor": 0
}
